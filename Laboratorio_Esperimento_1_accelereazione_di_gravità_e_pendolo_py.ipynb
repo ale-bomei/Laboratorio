{
  "nbformat": 4,
  "nbformat_minor": 0,
  "metadata": {
    "colab": {
      "provenance": [],
      "toc_visible": true,
      "authorship_tag": "ABX9TyNcFvT1Ux9Ma8HcLevyZ2KI",
      "include_colab_link": true
    },
    "kernelspec": {
      "name": "python3",
      "display_name": "Python 3"
    },
    "language_info": {
      "name": "python"
    }
  },
  "cells": [
    {
      "cell_type": "markdown",
      "metadata": {
        "id": "view-in-github",
        "colab_type": "text"
      },
      "source": [
        "<a href=\"https://colab.research.google.com/github/ale-bomei/Laboratorio/blob/main/Laboratorio_Esperimento_1_accelereazione_di_gravit%C3%A0_e_pendolo_py.ipynb\" target=\"_parent\"><img src=\"https://colab.research.google.com/assets/colab-badge.svg\" alt=\"Open In Colab\"/></a>"
      ]
    },
    {
      "cell_type": "markdown",
      "source": [
        "## **IMPORT**"
      ],
      "metadata": {
        "id": "YYEjDKqXlNQS"
      }
    },
    {
      "cell_type": "code",
      "execution_count": 1,
      "metadata": {
        "id": "LaemaiiGk6My"
      },
      "outputs": [],
      "source": [
        "import numpy as np\n",
        "from matplotlib import pyplot as plt\n",
        "from tabulate import tabulate\n",
        "import scipy as scipy\n",
        "import pandas as pd\n",
        "from scipy.stats import norm, chisquare, ncx2,chi2\n",
        "import scipy.stats as stats\n",
        "from IPython.display import display, HTML, Latex"
      ]
    },
    {
      "cell_type": "markdown",
      "source": [
        "## **FUNCTIONS**\n"
      ],
      "metadata": {
        "id": "_mnUy8fRlooE"
      }
    },
    {
      "cell_type": "code",
      "source": [
        "def media(x):\n",
        "    m = 0\n",
        "    for i in x:\n",
        "        m += i\n",
        "    m /= len(x)\n",
        "    mf = np.floor(1000.*m)/1000\n",
        "    return mf\n",
        "\n",
        "def deviazione_standard (x):\n",
        "    ds = 0\n",
        "    m = media(x)\n",
        "    for i in x:\n",
        "        ds += ((i - m)*(i - m))\n",
        "    ds /= (len(x)-1)\n",
        "    ds = np.sqrt(ds)\n",
        "    dsf = np.floor(1000.*ds)/1000\n",
        "    return dsf\n",
        "\n",
        "def ds_media (x):\n",
        "  dsm = deviazione_standard(x) / np.sqrt(len(x))\n",
        "  dsmf = np.floor(1000.*dsm)/1000\n",
        "  return dsmf\n",
        "\n",
        "def get_sub(x):\n",
        "    normal = \"ABCDEFGHIJKLMNOPQRSTUVWXYZabcdefghijklmnopqrstuvwxyz0123456789+-=()\"\n",
        "    sub_s = \"ₐ₈CDₑբGₕᵢⱼₖₗₘₙₒₚQᵣₛₜᵤᵥwₓᵧZₐ♭꜀ᑯₑբ₉ₕᵢⱼₖₗₘₙₒₚ૧ᵣₛₜᵤᵥwₓᵧ₂₀₁₂₃₄₅₆₇₈₉₊₋₌₍₎\"\n",
        "    res = x.maketrans(''.join(normal), ''.join(sub_s))\n",
        "    return x.translate(res)\n",
        "\n",
        "def Tabella(x, nome_lista):\n",
        "  misurazioni_ordinate = sorted(x)\n",
        "  valori, frequenze = np.unique(misurazioni_ordinate, return_counts=True)\n",
        "  frequenze_normalizzate = frequenze / len(x)\n",
        "  frequenze_normalizzate_adjusted = np.floor(1000.*frequenze_normalizzate)/1000\n",
        "  tabella = []\n",
        "  for i, (valore, frequenza, frequenza_normalizzata) in enumerate(zip(valori, frequenze, frequenze_normalizzate_adjusted), start=1):\n",
        "    tabella.append([i, f\"{valore:.2f}\", frequenza, frequenza_normalizzata])\n",
        "  intestazioni = [\"k\",  nome_lista, 'n{}'.format(get_sub('k')), 'F{}'.format(get_sub('k'))]\n",
        "  table = tabulate(tabella, intestazioni, tablefmt=\"pretty\")\n",
        "  return table\n",
        "\n",
        "def gaus(x,m,s):\n",
        "    h = 1./s/np.sqrt(2)\n",
        "    z = x-m\n",
        "    return np.exp(-np.power(h*z, 2.)) *h / np.sqrt(np.pi)\n",
        "\n",
        "def Interpolazione(x,y,sy):\n",
        "    if len(x) != len(y) or len(x) == 0:\n",
        "        print('I dati inseriti non sono validi')\n",
        "        return 0\n",
        "    if sy ==0 :\n",
        "        print(\"L'incertezza non può essere 0\")\n",
        "        return 0\n",
        "    sumy = 0\n",
        "    sumx = 0\n",
        "    sumxy = 0\n",
        "    sumx2 = 0\n",
        "    for i in range(len(x)):\n",
        "        sumy += y[i]\n",
        "        sumx += x[i]\n",
        "        sumxy += x[i]*y[i]\n",
        "        sumx2 += x[i]*x[i]\n",
        "    D = ((len(x))*sumx2 - ((sumx)*(sumx)))\n",
        "    A = (sumy*sumx2 - sumx*sumxy) / D\n",
        "    B = (len(x)*sumxy - sumx*sumy) / D\n",
        "    sa = sy*np.sqrt(sumx2 / D )\n",
        "    sb = sy*np.sqrt(len(x)/ D )\n",
        "    sab = (sumx / D) * sy\n",
        "    return (A,sa, B,sb, sab)\n",
        "\n",
        "def Interpolazioneorigine(x,y,sy):\n",
        "    if len(x) != len(y) or len(x) == 0:\n",
        "        print('I dati inseriti non sono validi')\n",
        "        return 0\n",
        "    if sy ==0 :\n",
        "        print(\"L'incertezza non può essere 0\")\n",
        "        return 0\n",
        "    sumxy = 0\n",
        "    sumx2 = 0\n",
        "    for i in range(len(x)):\n",
        "        sumxy += x[i]*y[i]\n",
        "        sumx2 += x[i]*x[i]\n",
        "    k = sumxy/sumx2\n",
        "    sk = sy/np.sqrt(sumx2)\n",
        "    return (k,sk)\n",
        "\n",
        "def Interpolazionesyi(x,y,sy):\n",
        "    if len(x) != len(y) or len(x) !=   len(sy) or len(x) == 0:\n",
        "        print('I dati inseriti non sono validi')\n",
        "        return 0\n",
        "    if sy ==0 :\n",
        "        print(\"L'incertezza non può essere 0\")\n",
        "        return 0\n",
        "    sumy = 0\n",
        "    sumx = 0\n",
        "    sumxy = 0\n",
        "    sumx2 = 0\n",
        "    sumsy = 0\n",
        "    for i in range(len(x)):\n",
        "        sumy += y[i] / (sy[i]*sy[i])\n",
        "        sumx += x[i] / (sy[i]*sy[i])\n",
        "        sumxy += (x[i]*y[i]) / (sy[i]*sy[i])\n",
        "        sumx2 += (x[i]*x[i]) / (sy[i]*sy[i])\n",
        "        sumsy += 1 / (sy[i]*sy[i])\n",
        "    D2 = (sumsy*sumx2 - ((sumx)*(sumx)))\n",
        "    A = (sumy*sumx2 - sumx*sumxy) / D2\n",
        "    B = (sumsy*sumxy - sumx*sumy) / D2\n",
        "    sa = np.sqrt(sumx2 / D2 )\n",
        "    sb = np.sqrt(sumsy/ D2 )\n",
        "    sab = (sumx / D2)\n",
        "    return (A,sa, B,sb,sab)\n",
        "\n",
        "def correlazione_lineare(sa,sb,sab):\n",
        "  r = sab / (sa*sb)\n",
        "  return r\n",
        "\n",
        "def Estrapolazione(A, B, sa, sb, sab, x):\n",
        "  y = A + B*x\n",
        "  sy = np.sqrt(sa*sa + x*x*sb*sb + 2*x*sab)\n",
        "  return(y,sy)"
      ],
      "metadata": {
        "id": "zplcoX7Ql1iO"
      },
      "execution_count": 2,
      "outputs": []
    },
    {
      "cell_type": "markdown",
      "source": [
        "## **DATA**"
      ],
      "metadata": {
        "id": "2B0dkI8_mjia"
      }
    },
    {
      "cell_type": "code",
      "source": [
        "T = np.array([0.78,0.75,0.73,0.83,0.84,0.88,0.80,0.94,0.89,0.86,0.84,0.83,0.80,\n",
        "0.83,0.87,0.66,0.73,0.74,0.82,0.73,0.71,0.91,0.76,0.69,0.63,0.72,0.80,\n",
        "0.81,0.76,0.80,0.72,0.80,0.79,0.78,0.84,0.82,0.82,0.76,0.81,0.84,0.85,\n",
        "0.88,0.81,0.83,0.83,0.82,0.86,0.90,0.84,0.87,0.87,0.84,0.91,0.79,0.93,\n",
        "0.93,0.93,0.87,0.81,0.88,0.90,0.89,0.90,0.89,0.91,0.86,0.87,0.96,0.86,\n",
        "0.96,0.86,0.94,0.86,0.90,0.83,0.79,0.81,0.86,0.86,0.84,0.87,0.94,0.90,\n",
        "0.84,0.91,0.90,0.88,0.93,0.84,0.87,0.86,0.81,0.88,0.91,0.86,0.86,0.88,\n",
        "     0.84,0.67,0.83])\n",
        "#Misure del periodo del pendolo (da soli)\n",
        "\n",
        "T20 = np.array([9.22,9.41,9.41,9.53,9.22,9.35,9.39,9.62,9.54,9.30])\n",
        "T43 = np.array([13.25, 13.17, 13.24, 13.17, 13.24, 13.18, 13.26, 13.19, 13.24])\n",
        "T53 = np.array([14.61, 14.64, 14.59, 14.67, 14.66, 14.74, 14.57, 14.65, 14.58, 14.62])\n",
        "T70 = np.array([16.94, 16.94, 16.85, 16.89])\n",
        "T685 = np.array([16.79, 16.76, 16.83, 16.73, 16.81, 16.77, 16.86, 16.80, 16.68, 16.81])\n",
        "T86 = np.array([18.69, 18.73, 18.64, 18.69, 18.59,18.50, 18.78, 18.62, 18.69, 18.57 ])\n",
        "T109 = np.array([20.75, 20.61, 20.99, 20.80, 20.97, 20.96, 20.95, 20.78, 21.00, 20.87])\n",
        "#Misure ΔT (10 oscillazioni)\n",
        "\n",
        "T_interpol_media = [media(T20) / 10, media(T43) / 10, media(T53) / 10 , media(T685) / 10,  media(T86)/10, media(T109)/10]\n",
        "T_interpol_ds = [deviazione_standard(T20) / 10, deviazione_standard(T43) / 10, deviazione_standard(T53) / 10 , deviazione_standard(T685) / 10,  deviazione_standard(T86)/10, deviazione_standard(T109)/10 ]\n",
        "T_interpol_ds_media = [ds_media(T20) / 10, ds_media(T43) / 10, ds_media(T53) / 10 , ds_media(T685) / 10,  ds_media(T86)/10, ds_media(T109)/10 ]\n",
        "T_interpol_media2 = [(media(T20) / 10)**2, (media(T43) / 10)**2, (media(T53) / 10)**2 , (media(T685) / 10)**2,  (media(T86)/10)**2, (media(T109)/10)**2 ]\n",
        "T_media_log = [np.log(media(T20) / 10), np.log(media(T43) / 10), np.log(media(T53) / 10) ,np.log(media(T685) / 10),  np.log(media(T86)/10), np.log(media(T109)/10) ]\n",
        "\n",
        "L = [0.20, 0.43, 0.53, 0.685, 0.8625, 1.09 ] #m\n",
        "L_log = np.log(L)\n",
        "L_sqrt = np.array([np.sqrt(0.20), np.sqrt(0.43), np.sqrt(0.53), np.sqrt(0.685), np.sqrt(0.8625), np.sqrt(1.09)])\n",
        "\n",
        "print(\"Questi sono i dati per il periodo del pendolo (da soli): \\n\"\n",
        "      \"Media: \" + str(media(T)) + \"\\n\"\n",
        "      \"Deviazione standard: \" + str(deviazione_standard(T)) + \"\\n\"\n",
        "      \"Deviazione standard della media: \" + str(ds_media(T)) + \"\\n\"\n",
        "      \"Numero di prove: \" + str(len(T)) + \"\\n\")\n",
        "print (Tabella(T, \"T[s]\"))\n",
        "print(\"\\n\")\n",
        "\n",
        "RT = np.array([0.66, 0.71, 0.61, 0.64, 0.65, 0.67, 0.60, 0.60, 0.64, 0.67, 0.60,\n",
        "      0.67, 0.62, 0.64, 0.58, 0.65, 0.69, 0.66, 0.68, 0.61, 0.66, 0.53,\n",
        "      0.71, 0.68,0.67, 0.68, 0.63])\n",
        "#Misure del periodo del pendolo (in due)\n",
        "\n",
        "print(\"Questi sono i dati per il periodo del pendolo (in due): \\n\"\n",
        "      \"Media: \" + str(media(RT)) + \"\\n\"\n",
        "      \"Deviazione standard: \" + str(deviazione_standard(RT)) + \"\\n\"\n",
        "      \"Deviazione standard della media: \" + str(ds_media(RT)) + \"\\n\"\n",
        "      \"Numero di prove: \" + str(len(RT)) + \"\\n\")\n",
        "print (Tabella(RT,\"RT[s]\"))\n",
        "print(\"\\n\")\n",
        "\n",
        "print(\"Questi sono i dati per il periodo del pendolo misurando DT di 10 oscillazioni(considerando T = DT/10): \\n\"\n",
        "      \"Media: \" + str(media(np.array(T20)/10.0)) + \"\\n\"\n",
        "      \"Deviazione standard: \" + str(deviazione_standard(np.array(T20))/10.0) + \"\\n\"\n",
        "      \"Deviazione standard della media: \" + str(ds_media(np.array(T20)/10.0)) + \"\\n\"\n",
        "      \"Numero di prove: \" + str(len(T20)) + \"\\n\")\n",
        "print (Tabella(T20, '\\u0394' 'T[s]'))\n",
        "print(\"\\n\")\n",
        "\n",
        "m = np.array([50.43,50.45,50.43,50.42,50.43,50.42,50.43,50.42,50.41,50.41])\n",
        "#Massa pendolo\n",
        "\n",
        "print(\"Questi sono i dati per la massa del pendolo: \\n\"\n",
        "      \"Media: \" + str(media(m)) + \"\\n\"\n",
        "      \"Deviazione standard: \" + str(deviazione_standard(m)) + \"\\n\"\n",
        "      \"Deviazione standard della media: \" + str(ds_media(m)) + \"\\n\"\n",
        "      \"Numero di prove: \" + str(len(m)) + \"\\n\")\n",
        "\n",
        "print (Tabella(m, \"m[g]\"))\n",
        "print(\"\\n\")\n",
        "\n",
        "Diametro = 0.020 #m\n",
        "Sigma_Diametro = 0.001 #m\n",
        "\n",
        "print('Il diametro misura 2 ± 0.1 cm' \"\\n\")\n",
        "\n",
        "'''\n",
        "Oscillazioni = {100: 93.67, 200: 188.43, 300: 281.72, 400: 374.92, 500: 467.25}\n",
        "#Numero oscillazioni e tempo impiegato\n",
        "'''\n",
        "\n"
      ],
      "metadata": {
        "colab": {
          "base_uri": "https://localhost:8080/",
          "height": 1000
        },
        "id": "3kMne5bKmp_l",
        "outputId": "55b2073f-3bbc-45be-f9ad-d6f83f8e2156"
      },
      "execution_count": 3,
      "outputs": [
        {
          "output_type": "stream",
          "name": "stdout",
          "text": [
            "Questi sono i dati per il periodo del pendolo (da soli): \n",
            "Media: 0.838\n",
            "Deviazione standard: 0.066\n",
            "Deviazione standard della media: 0.006\n",
            "Numero di prove: 100\n",
            "\n",
            "+----+------+----+------+\n",
            "| k  | T[s] | nₖ |  Fₖ  |\n",
            "+----+------+----+------+\n",
            "| 1  | 0.63 | 1  | 0.01 |\n",
            "| 2  | 0.66 | 1  | 0.01 |\n",
            "| 3  | 0.67 | 1  | 0.01 |\n",
            "| 4  | 0.69 | 1  | 0.01 |\n",
            "| 5  | 0.71 | 1  | 0.01 |\n",
            "| 6  | 0.72 | 2  | 0.02 |\n",
            "| 7  | 0.73 | 3  | 0.03 |\n",
            "| 8  | 0.74 | 1  | 0.01 |\n",
            "| 9  | 0.75 | 1  | 0.01 |\n",
            "| 10 | 0.76 | 3  | 0.03 |\n",
            "| 11 | 0.78 | 2  | 0.02 |\n",
            "| 12 | 0.79 | 3  | 0.03 |\n",
            "| 13 | 0.80 | 5  | 0.05 |\n",
            "| 14 | 0.81 | 6  | 0.06 |\n",
            "| 15 | 0.82 | 4  | 0.04 |\n",
            "| 16 | 0.83 | 7  | 0.07 |\n",
            "| 17 | 0.84 | 10 | 0.1  |\n",
            "| 18 | 0.85 | 1  | 0.01 |\n",
            "| 19 | 0.86 | 11 | 0.11 |\n",
            "| 20 | 0.87 | 7  | 0.07 |\n",
            "| 21 | 0.88 | 6  | 0.06 |\n",
            "| 22 | 0.89 | 3  | 0.03 |\n",
            "| 23 | 0.90 | 6  | 0.06 |\n",
            "| 24 | 0.91 | 5  | 0.05 |\n",
            "| 25 | 0.93 | 4  | 0.04 |\n",
            "| 26 | 0.94 | 3  | 0.03 |\n",
            "| 27 | 0.96 | 2  | 0.02 |\n",
            "+----+------+----+------+\n",
            "\n",
            "\n",
            "Questi sono i dati per il periodo del pendolo (in due): \n",
            "Media: 0.644\n",
            "Deviazione standard: 0.041\n",
            "Deviazione standard della media: 0.007\n",
            "Numero di prove: 27\n",
            "\n",
            "+----+-------+----+-------+\n",
            "| k  | RT[s] | nₖ |  Fₖ   |\n",
            "+----+-------+----+-------+\n",
            "| 1  | 0.53  | 1  | 0.037 |\n",
            "| 2  | 0.58  | 1  | 0.037 |\n",
            "| 3  | 0.60  | 3  | 0.111 |\n",
            "| 4  | 0.61  | 2  | 0.074 |\n",
            "| 5  | 0.62  | 1  | 0.037 |\n",
            "| 6  | 0.63  | 1  | 0.037 |\n",
            "| 7  | 0.64  | 3  | 0.111 |\n",
            "| 8  | 0.65  | 2  | 0.074 |\n",
            "| 9  | 0.66  | 3  | 0.111 |\n",
            "| 10 | 0.67  | 4  | 0.148 |\n",
            "| 11 | 0.68  | 3  | 0.111 |\n",
            "| 12 | 0.69  | 1  | 0.037 |\n",
            "| 13 | 0.71  | 2  | 0.074 |\n",
            "+----+-------+----+-------+\n",
            "\n",
            "\n",
            "Questi sono i dati per il periodo del pendolo misurando DT di 10 oscillazioni(considerando T = DT/10): \n",
            "Media: 0.939\n",
            "Deviazione standard: 0.0134\n",
            "Deviazione standard della media: 0.004\n",
            "Numero di prove: 10\n",
            "\n",
            "+---+-------+----+-----+\n",
            "| k | ΔT[s] | nₖ | Fₖ  |\n",
            "+---+-------+----+-----+\n",
            "| 1 | 9.22  | 2  | 0.2 |\n",
            "| 2 | 9.30  | 1  | 0.1 |\n",
            "| 3 | 9.35  | 1  | 0.1 |\n",
            "| 4 | 9.39  | 1  | 0.1 |\n",
            "| 5 | 9.41  | 2  | 0.2 |\n",
            "| 6 | 9.53  | 1  | 0.1 |\n",
            "| 7 | 9.54  | 1  | 0.1 |\n",
            "| 8 | 9.62  | 1  | 0.1 |\n",
            "+---+-------+----+-----+\n",
            "\n",
            "\n",
            "Questi sono i dati per la massa del pendolo: \n",
            "Media: 50.425\n",
            "Deviazione standard: 0.011\n",
            "Deviazione standard della media: 0.003\n",
            "Numero di prove: 10\n",
            "\n",
            "+---+-------+----+-----+\n",
            "| k | m[g]  | nₖ | Fₖ  |\n",
            "+---+-------+----+-----+\n",
            "| 1 | 50.41 | 2  | 0.2 |\n",
            "| 2 | 50.42 | 3  | 0.3 |\n",
            "| 3 | 50.43 | 4  | 0.4 |\n",
            "| 4 | 50.45 | 1  | 0.1 |\n",
            "+---+-------+----+-----+\n",
            "\n",
            "\n",
            "Il diametro misura 2 ± 0.1 cm\n",
            "\n"
          ]
        },
        {
          "output_type": "execute_result",
          "data": {
            "text/plain": [
              "'\\nOscillazioni = {100: 93.67, 200: 188.43, 300: 281.72, 400: 374.92, 500: 467.25}\\n#Numero oscillazioni e tempo impiegato\\n'"
            ],
            "application/vnd.google.colaboratory.intrinsic+json": {
              "type": "string"
            }
          },
          "metadata": {},
          "execution_count": 3
        }
      ]
    },
    {
      "cell_type": "code",
      "source": [
        "#Tabella 1\n",
        "lunghezza = np.array([0.20, 0.43, 0.53, 0.685, 0.86, 1.09])\n",
        "\n",
        "data = {\n",
        "    'l(m)': lunghezza,\n",
        "    'ΔT (s)': [T20, T43, T53, T685, T86, T109]\n",
        "}\n",
        "\n",
        "data['ΔT (s)'] = [f\"{arr.mean():.3f} ± {arr.std():.3f}\" for arr in data['ΔT (s)']]\n",
        "data['T (s)'] = [f\"{arr.mean()/10:.3f} ± {arr.std()/10:.3f}\" for arr in [T20, T43, T53, T685, T86, T109]]\n",
        "df = pd.DataFrame(data)\n",
        "display(HTML(df.to_html(escape=False)))"
      ],
      "metadata": {
        "colab": {
          "base_uri": "https://localhost:8080/",
          "height": 237
        },
        "id": "29CFvKNAcHs0",
        "outputId": "18938143-73ae-44b7-da51-fbb05e2b048d"
      },
      "execution_count": 55,
      "outputs": [
        {
          "output_type": "display_data",
          "data": {
            "text/plain": [
              "<IPython.core.display.HTML object>"
            ],
            "text/html": [
              "<table border=\"1\" class=\"dataframe\">\n",
              "  <thead>\n",
              "    <tr style=\"text-align: right;\">\n",
              "      <th></th>\n",
              "      <th>l(m)</th>\n",
              "      <th>ΔT (s)</th>\n",
              "      <th>T (s)</th>\n",
              "    </tr>\n",
              "  </thead>\n",
              "  <tbody>\n",
              "    <tr>\n",
              "      <th>0</th>\n",
              "      <td>0.200</td>\n",
              "      <td>9.399 ± 0.127</td>\n",
              "      <td>0.940 ± 0.013</td>\n",
              "    </tr>\n",
              "    <tr>\n",
              "      <th>1</th>\n",
              "      <td>0.430</td>\n",
              "      <td>13.216 ± 0.035</td>\n",
              "      <td>1.322 ± 0.003</td>\n",
              "    </tr>\n",
              "    <tr>\n",
              "      <th>2</th>\n",
              "      <td>0.530</td>\n",
              "      <td>14.633 ± 0.048</td>\n",
              "      <td>1.463 ± 0.005</td>\n",
              "    </tr>\n",
              "    <tr>\n",
              "      <th>3</th>\n",
              "      <td>0.685</td>\n",
              "      <td>16.784 ± 0.049</td>\n",
              "      <td>1.678 ± 0.005</td>\n",
              "    </tr>\n",
              "    <tr>\n",
              "      <th>4</th>\n",
              "      <td>0.860</td>\n",
              "      <td>18.650 ± 0.078</td>\n",
              "      <td>1.865 ± 0.008</td>\n",
              "    </tr>\n",
              "    <tr>\n",
              "      <th>5</th>\n",
              "      <td>1.090</td>\n",
              "      <td>20.868 ± 0.123</td>\n",
              "      <td>2.087 ± 0.012</td>\n",
              "    </tr>\n",
              "  </tbody>\n",
              "</table>"
            ]
          },
          "metadata": {}
        }
      ]
    },
    {
      "cell_type": "markdown",
      "source": [
        "## **ISTOGRAMMA**"
      ],
      "metadata": {
        "id": "lTJhelVnnmyb"
      }
    },
    {
      "cell_type": "code",
      "source": [
        "plt.hist(T,bins=10, range = [min(T), max(T)], label='data')\n",
        "plt.xlabel('$T$ (s)')\n",
        "plt.ylabel('Frequenza')\n",
        "plt.legend()"
      ],
      "metadata": {
        "colab": {
          "base_uri": "https://localhost:8080/",
          "height": 468
        },
        "id": "EWXvK4mCnsRL",
        "outputId": "c9bee1f5-ccb5-4694-e892-f136676ee0e7"
      },
      "execution_count": 5,
      "outputs": [
        {
          "output_type": "execute_result",
          "data": {
            "text/plain": [
              "<matplotlib.legend.Legend at 0x7cb835be1870>"
            ]
          },
          "metadata": {},
          "execution_count": 5
        },
        {
          "output_type": "display_data",
          "data": {
            "text/plain": [
              "<Figure size 640x480 with 1 Axes>"
            ],
            "image/png": "[encoded data removed]"
          },
          "metadata": {}
        }
      ]
    },
    {
      "cell_type": "markdown",
      "source": [
        "## **GAUSSIANA**"
      ],
      "metadata": {
        "id": "vZJQrBxDp-FI"
      }
    },
    {
      "cell_type": "code",
      "source": [
        "# Definisco il numero degli intervalli, minimo, massimo e disegno l'istogramma\n",
        "num_bins = 10\n",
        "Tmin, Tmax = min(T), max(T) # scelgo minimo e massimo arrotondando (oss: floor e ceil restituiscono un intero, io voglio arrotondare a 0.1, da cui la moltiplicazione e divisione per 10)\n",
        "plt.hist(T, num_bins, range = [Tmin, Tmax], alpha=0.5, density=True, label='data') # density=True richiede che l'area dell'istogramma venga normalizzata a 1 ; alpha = 0.5 rende il colore dell'area dell'istogramma sfumato; label = 'data' fornisce un nome all'oggetto disegnato per la legenda\n",
        "\n",
        "# Abbellimento del grafico\n",
        "xt = [round(0.65+i*0.05, 2) for i in range(num_bins+1)] # abbellimento del grafico: scelgo i punti dove disegnare gli intervalli\n",
        "plt.xticks(xt, [f'{i:.2f}' for i in xt]) # scrivo le tacchette sull'asse x\n",
        "plt.xlabel('$T$ (S)') # titolo asse x - il testo compreso tra i segni $ viene interpretato come linguaggio LaTeX di tipo matematico (https://en.wikibooks.org/wiki/LaTeX/Mathematics)\n",
        "plt.ylabel('Densità di Frequenza') # titolo asse y\n",
        "\n",
        "# Disegno la funzione\n",
        "mean, sigma = np.mean(T),deviazione_standard(T) # calcolo media e deviazione standard\n",
        "t = np.linspace(Tmin,Tmax) # questa funzione definisce un vettore ad alta densità per calcolare la funzione da disegnare lungo l'asse x\n",
        "plt.plot(t,gaus(t,mean, sigma),label=r\"$G(x;\\mu,\\sigma)$\")\n",
        "plt.legend() # aggiungo una legenda\n",
        "\n"
      ],
      "metadata": {
        "colab": {
          "base_uri": "https://localhost:8080/",
          "height": 468
        },
        "id": "i66iCWueqCqd",
        "outputId": "8228044d-39d6-49bd-ee02-fa5b167ea77c"
      },
      "execution_count": 6,
      "outputs": [
        {
          "output_type": "execute_result",
          "data": {
            "text/plain": [
              "<matplotlib.legend.Legend at 0x7cb8336588e0>"
            ]
          },
          "metadata": {},
          "execution_count": 6
        },
        {
          "output_type": "display_data",
          "data": {
            "text/plain": [
              "<Figure size 640x480 with 1 Axes>"
            ],
            "image/png": "[encoded data removed]"
          },
          "metadata": {}
        }
      ]
    },
    {
      "cell_type": "markdown",
      "source": [
        "## **TEST DEL CHI QUADRO**"
      ],
      "metadata": {
        "id": "5PJkf1TeqHtR"
      }
    },
    {
      "cell_type": "code",
      "source": [
        "from scipy import integrate\n",
        "from scipy.integrate import quad\n",
        "import matplotlib.pyplot as plt\n",
        "from scipy.stats import norm, chisquare, ncx2,chi2\n",
        "\n",
        "\n",
        "def chisq(y,e):\n",
        "    '''\n",
        "    y: vettore delle misure\n",
        "    e: vettore dei valori attesi per i valori di x considerati\n",
        "    sy: incertezza sulle misure\n",
        "    '''\n",
        "    if len(y)!=len(e) or len(y) == 0:\n",
        "        print('I dati inseriti non sono validi')\n",
        "        return 0\n",
        "    c2 = 0\n",
        "    for i in range(len(y)): c2 = c2 + (((y[i]-e[i])*(y[i]-e[i])) / e[i])\n",
        "    return c2\n",
        "\n",
        "Elementi_per_intervallo = np.array([2, 2, 3, 8, 5, 15, 29, 16, 11, 9])\n",
        "Edges = np.array([0.63 , 0.663, 0.696, 0.729, 0.762, 0.795, 0.828, 0.861, 0.894,\n",
        "        0.927, 0.96])\n",
        "\n",
        "def gaus(x,m,s):\n",
        "    h = 1./s/np.sqrt(2)\n",
        "    z = x-m\n",
        "    return np.exp(-np.power(h*z, 2.)) *h / np.sqrt(np.pi)\n",
        "\n",
        "def gaussian(x): return gaus(x, media(T), deviazione_standard(T))\n",
        "Ek1, error1 = quad(gaussian, -np.inf, 0.663)\n",
        "Ek2, error2 = quad(gaussian, 0.663, 0.696)\n",
        "Ek3, error3 = quad(gaussian, 0.696, 0.729)\n",
        "Ek4, error4 = quad(gaussian, 0.729, 0.762)\n",
        "Ek5, error6 = quad(gaussian,  0.762, 0.795)\n",
        "Ek6, error6 = quad(gaussian, 0.795, 0.828)\n",
        "Ek7, error7 = quad(gaussian, 0.828, 0.861)\n",
        "Ek8, error8 = quad(gaussian, 0.861, 0.894)\n",
        "Ek9, error9 = quad(gaussian, 0.894,  0.927)\n",
        "Ek10, error10 = quad(gaussian, 0.927, np.inf)\n",
        "\n",
        "pk = np.array([Ek1, Ek2, Ek3, Ek4, Ek5, Ek6, Ek7, Ek8, Ek9, Ek10])\n",
        "Ek = pk*len(T)\n",
        "print(Ek)\n",
        "print(Elementi_per_intervallo)\n",
        "\n",
        "\n",
        "chi2v = chisq(Elementi_per_intervallo, Ek)\n",
        "print('chi2 = {:.2f}'.format(chi2v))\n",
        "\n",
        "d = len(Elementi_per_intervallo)-3 #media, deviazione_standard, Ek\n",
        "chi2_ridotto = chi2v / d\n",
        "print('chi2_ridotto {}'.format(chi2_ridotto))\n",
        "\n",
        "\n",
        "pchi2 = 1-chi2.cdf(chi2v,d)\n",
        "print('P(chi2) = {:.1f}%'.format(100.*pchi2))\n"
      ],
      "metadata": {
        "colab": {
          "base_uri": "https://localhost:8080/"
        },
        "id": "kfJlSBNatGT6",
        "outputId": "a933e9cf-eeba-466b-9d51-93869ae9ac63"
      },
      "execution_count": 39,
      "outputs": [
        {
          "output_type": "stream",
          "name": "stdout",
          "text": [
            "[ 0.40065759  1.17112047  3.35989342  7.5443468  13.2596817  18.242768\n",
            " 19.64772748 16.56540418 10.93327584  8.87512451]\n",
            "[ 2  2  3  8  5 15 29 16 11  9]\n",
            "chi2 = 17.23\n",
            "chi2_ridotto 2.4616584299385553\n",
            "P(chi2) = 1.6%\n"
          ]
        }
      ]
    },
    {
      "cell_type": "markdown",
      "source": [
        "## **GRAFICI**"
      ],
      "metadata": {
        "id": "K2o4Fyq_qCCg"
      }
    },
    {
      "cell_type": "code",
      "source": [
        "#T su L\n",
        "# Creare un DataFrame con pandas\n",
        "data = {'L[cm]': L, 'T[s]': (T_interpol_media)}\n",
        "df = pd.DataFrame(data)\n",
        "display(HTML(df.to_html(escape=False)))\n",
        "\n",
        "print(\"\\n\")\n",
        "\n",
        "# Disegno il grafico con barre di errore\n",
        "plt.errorbar(L,T_interpol_media, yerr=T_interpol_ds, fmt='o', ls='none', label='data')\n",
        "# abbellimenti\n",
        "plt.xlim(left=0)\n",
        "plt.ylim(bottom=0)\n",
        "plt.text(max(L), -0.1*(max(T_interpol_media)-min(T_interpol_media)+2*max(T_interpol_ds)), 'L(m)')\n",
        "plt.text(-0.2*(max(L)-min(L)), max(T_interpol_media)+max(T_interpol_ds), 'T (s)')"
      ],
      "metadata": {
        "colab": {
          "base_uri": "https://localhost:8080/",
          "height": 703
        },
        "id": "9Tte7OgZqRME",
        "outputId": "f810b8c8-5b79-4235-9290-6df2aad2ef2a"
      },
      "execution_count": 8,
      "outputs": [
        {
          "output_type": "display_data",
          "data": {
            "text/plain": [
              "<IPython.core.display.HTML object>"
            ],
            "text/html": [
              "<table border=\"1\" class=\"dataframe\">\n",
              "  <thead>\n",
              "    <tr style=\"text-align: right;\">\n",
              "      <th></th>\n",
              "      <th>L[cm]</th>\n",
              "      <th>T[s]</th>\n",
              "    </tr>\n",
              "  </thead>\n",
              "  <tbody>\n",
              "    <tr>\n",
              "      <th>0</th>\n",
              "      <td>0.2000</td>\n",
              "      <td>0.9399</td>\n",
              "    </tr>\n",
              "    <tr>\n",
              "      <th>1</th>\n",
              "      <td>0.4300</td>\n",
              "      <td>1.3215</td>\n",
              "    </tr>\n",
              "    <tr>\n",
              "      <th>2</th>\n",
              "      <td>0.5300</td>\n",
              "      <td>1.4633</td>\n",
              "    </tr>\n",
              "    <tr>\n",
              "      <th>3</th>\n",
              "      <td>0.6850</td>\n",
              "      <td>1.6784</td>\n",
              "    </tr>\n",
              "    <tr>\n",
              "      <th>4</th>\n",
              "      <td>0.8625</td>\n",
              "      <td>1.8650</td>\n",
              "    </tr>\n",
              "    <tr>\n",
              "      <th>5</th>\n",
              "      <td>1.0900</td>\n",
              "      <td>2.0868</td>\n",
              "    </tr>\n",
              "  </tbody>\n",
              "</table>"
            ]
          },
          "metadata": {}
        },
        {
          "output_type": "stream",
          "name": "stdout",
          "text": [
            "\n",
            "\n"
          ]
        },
        {
          "output_type": "execute_result",
          "data": {
            "text/plain": [
              "Text(-0.17800000000000005, 2.1001999999999996, 'T (s)')"
            ]
          },
          "metadata": {},
          "execution_count": 8
        },
        {
          "output_type": "display_data",
          "data": {
            "text/plain": [
              "<Figure size 640x480 with 1 Axes>"
            ],
            "image/png": "[encoded data removed]"
          },
          "metadata": {}
        }
      ]
    },
    {
      "cell_type": "code",
      "source": [
        "#T^2 su L\n",
        "# Creare un DataFrame con pandas\n",
        "data = {r'L[cm]': L, r'T^2 [s^2]': T_interpol_media}\n",
        "df = pd.DataFrame(data)\n",
        "display(HTML(df.to_html(escape=False)))\n",
        "\n",
        "# Disegno il grafico con barre di errore\n",
        "plt.errorbar(L,T_interpol_media2, yerr=T_interpol_ds, fmt='o', ls='none', label='data')\n",
        "# abbellimenti\n",
        "plt.xlim(left=0)\n",
        "plt.ylim(bottom=0)\n",
        "plt.text(max(L), -0.1*(max(T_interpol_media2)-min(T_interpol_media2)+2*max(T_interpol_ds)), 'L(m)')\n",
        "plt.text(-0.2*(max(L)-min(L)), max(T_interpol_media)+max(T_interpol_ds), '$T^2$ $[s^2]$')\n"
      ],
      "metadata": {
        "colab": {
          "base_uri": "https://localhost:8080/",
          "height": 676
        },
        "id": "TtZPHJRVqnRS",
        "outputId": "78125de5-ec9b-4ed8-bea0-dc71cc4185cb"
      },
      "execution_count": 9,
      "outputs": [
        {
          "output_type": "display_data",
          "data": {
            "text/plain": [
              "<IPython.core.display.HTML object>"
            ],
            "text/html": [
              "<table border=\"1\" class=\"dataframe\">\n",
              "  <thead>\n",
              "    <tr style=\"text-align: right;\">\n",
              "      <th></th>\n",
              "      <th>L[cm]</th>\n",
              "      <th>T^2 [s^2]</th>\n",
              "    </tr>\n",
              "  </thead>\n",
              "  <tbody>\n",
              "    <tr>\n",
              "      <th>0</th>\n",
              "      <td>0.2000</td>\n",
              "      <td>0.9399</td>\n",
              "    </tr>\n",
              "    <tr>\n",
              "      <th>1</th>\n",
              "      <td>0.4300</td>\n",
              "      <td>1.3215</td>\n",
              "    </tr>\n",
              "    <tr>\n",
              "      <th>2</th>\n",
              "      <td>0.5300</td>\n",
              "      <td>1.4633</td>\n",
              "    </tr>\n",
              "    <tr>\n",
              "      <th>3</th>\n",
              "      <td>0.6850</td>\n",
              "      <td>1.6784</td>\n",
              "    </tr>\n",
              "    <tr>\n",
              "      <th>4</th>\n",
              "      <td>0.8625</td>\n",
              "      <td>1.8650</td>\n",
              "    </tr>\n",
              "    <tr>\n",
              "      <th>5</th>\n",
              "      <td>1.0900</td>\n",
              "      <td>2.0868</td>\n",
              "    </tr>\n",
              "  </tbody>\n",
              "</table>"
            ]
          },
          "metadata": {}
        },
        {
          "output_type": "execute_result",
          "data": {
            "text/plain": [
              "Text(-0.17800000000000005, 2.1001999999999996, '$T^2$ $[s^2]$')"
            ]
          },
          "metadata": {},
          "execution_count": 9
        },
        {
          "output_type": "display_data",
          "data": {
            "text/plain": [
              "<Figure size 640x480 with 1 Axes>"
            ],
            "image/png": "[encoded data removed]"
          },
          "metadata": {}
        }
      ]
    },
    {
      "cell_type": "code",
      "source": [
        "#Scala logaritmica\n",
        "print(\"\\n\")\n",
        "data = {'log(L) [cm]': L_log, 'log(T) [s]': T_media_log}\n",
        "df = pd.DataFrame(data)\n",
        "display(HTML(df.to_html(escape=False)))\n",
        "\n",
        "fig, ax = plt.subplots()\n",
        "ax.loglog(L, T_interpol_media, 'o')\n",
        "ax.set_xscale('log')\n",
        "ax.set_yscale('log')\n",
        "ax.set_xlabel('L (m)')\n",
        "ax.set_ylabel('T (s)')\n",
        "ax.grid(True)\n",
        "plt.savefig('log')\n",
        "plt.show()"
      ],
      "metadata": {
        "colab": {
          "base_uri": "https://localhost:8080/",
          "height": 709
        },
        "id": "FQ-lt4CirVza",
        "outputId": "5cadd68d-f4a2-4b9d-aebe-1f1a0d6b80db"
      },
      "execution_count": 10,
      "outputs": [
        {
          "output_type": "stream",
          "name": "stdout",
          "text": [
            "\n",
            "\n"
          ]
        },
        {
          "output_type": "display_data",
          "data": {
            "text/plain": [
              "<IPython.core.display.HTML object>"
            ],
            "text/html": [
              "<table border=\"1\" class=\"dataframe\">\n",
              "  <thead>\n",
              "    <tr style=\"text-align: right;\">\n",
              "      <th></th>\n",
              "      <th>log(L) [cm]</th>\n",
              "      <th>log(T) [s]</th>\n",
              "    </tr>\n",
              "  </thead>\n",
              "  <tbody>\n",
              "    <tr>\n",
              "      <th>0</th>\n",
              "      <td>-1.609438</td>\n",
              "      <td>-0.061982</td>\n",
              "    </tr>\n",
              "    <tr>\n",
              "      <th>1</th>\n",
              "      <td>-0.843970</td>\n",
              "      <td>0.278767</td>\n",
              "    </tr>\n",
              "    <tr>\n",
              "      <th>2</th>\n",
              "      <td>-0.634878</td>\n",
              "      <td>0.380694</td>\n",
              "    </tr>\n",
              "    <tr>\n",
              "      <th>3</th>\n",
              "      <td>-0.378336</td>\n",
              "      <td>0.517841</td>\n",
              "    </tr>\n",
              "    <tr>\n",
              "      <th>4</th>\n",
              "      <td>-0.147920</td>\n",
              "      <td>0.623261</td>\n",
              "    </tr>\n",
              "    <tr>\n",
              "      <th>5</th>\n",
              "      <td>0.086178</td>\n",
              "      <td>0.735632</td>\n",
              "    </tr>\n",
              "  </tbody>\n",
              "</table>"
            ]
          },
          "metadata": {}
        },
        {
          "output_type": "display_data",
          "data": {
            "text/plain": [
              "<Figure size 640x480 with 1 Axes>"
            ],
            "image/png": "[encoded data removed]"
          },
          "metadata": {}
        }
      ]
    },
    {
      "cell_type": "markdown",
      "source": [
        "## **INTERPOLAZIONE**\n",
        "\n"
      ],
      "metadata": {
        "id": "Du9PHaPwqho4"
      }
    },
    {
      "cell_type": "code",
      "source": [
        "res = Interpolazionesyi(L_sqrt,T_interpol_media,T_interpol_ds)\n",
        "print(res)\n",
        "print('y = ({:.3f} ± {:.3f}) +({:.3f} ± {:.3f})x '.format(res[0],res[1],res[2],res[3]))\n",
        "\n",
        "A = (res[0])\n",
        "B = (res[2])\n",
        "sb = (res[3])\n",
        "\n",
        "# Definisco la funzione che voglio disegnare\n",
        "def line(x,m,q):\n",
        "  y = m * x + q\n",
        "  return y\n",
        "\n",
        "# Disegno il grafico con barre di errore\n",
        "plt.errorbar(L_sqrt,T_interpol_media, yerr=T_interpol_ds, fmt='o', ls='none', label='data')\n",
        "# abbellimenti\n",
        "plt.xlim(left=0)\n",
        "plt.ylim(bottom=0)\n",
        "plt.text(max(L_sqrt), -0.1*(max(T_interpol_media)-min(T_interpol_media)+2*max(T_interpol_ds)), r'L($m^\\frac{1}{2}$)')\n",
        "plt.text(-0.2*(max(L_sqrt)-min(L_sqrt)), max(T_interpol_media)+max(T_interpol_ds), 'T (s)')\n",
        "\n",
        "# Disegno la funzione\n",
        "xmin, xmax = 0, max(L_sqrt)+0.1*(max(L_sqrt)-min(L_sqrt))\n",
        "t = np.linspace(xmin,xmax) # questa funzione definisce un vettore ad alta densità per calcolare la funzione da disegnare lungo l'asse x\n",
        "plt.plot(t,line(t,B,A),label=r\"$y = {:.2f}x + {:.2f}  $\".format(B,A))\n",
        "plt.legend() # aggiungo una legenda\n"
      ],
      "metadata": {
        "id": "hmsz7slxuhNN",
        "colab": {
          "base_uri": "https://localhost:8080/",
          "height": 483
        },
        "outputId": "39e68f1b-700c-47ca-e0c5-eaca5fa573ef"
      },
      "execution_count": 35,
      "outputs": [
        {
          "output_type": "stream",
          "name": "stdout",
          "text": [
            "(0.024873184341838803, 0.015317363015671655, 1.9835882638654325, 0.020490425909078264, 0.00031007765670633007)\n",
            "y = (0.025 ± 0.015) +(1.984 ± 0.020)x \n"
          ]
        },
        {
          "output_type": "execute_result",
          "data": {
            "text/plain": [
              "<matplotlib.legend.Legend at 0x7cb832563d60>"
            ]
          },
          "metadata": {},
          "execution_count": 35
        },
        {
          "output_type": "display_data",
          "data": {
            "text/plain": [
              "<Figure size 640x480 with 1 Axes>"
            ],
            "image/png": "[encoded data removed]"
          },
          "metadata": {}
        }
      ]
    },
    {
      "cell_type": "code",
      "source": [
        "def chisq(y,e,sy):\n",
        "    '''\n",
        "    y: vettore delle misure\n",
        "    e: vettore dei valori attesi per i valori di x considerati\n",
        "    sy: incertezza sulle misure\n",
        "    '''\n",
        "    if len(y)!=len(e) or len(y) == 0:\n",
        "        print('I dati inseriti non sono validi')\n",
        "        return 0\n",
        "    if sy ==0 :\n",
        "        print('L\\'incertezza non può essere 0')\n",
        "        return 0\n",
        "    c2 = 0\n",
        "    for i in range(len(y)): c2 = c2 + (y[i]-e[i])*(y[i]-e[i])\n",
        "    c2 /= sy[i]*sy[i]\n",
        "    return c2\n",
        "\n",
        "print(A)\n",
        "chi2v = chisq(T_interpol_media,line(L_sqrt,B, A),T_interpol_ds)\n",
        "print('chi2 = {:.2f}'.format(chi2v))\n",
        "\n",
        "d = len(T_interpol_media)-2 #A e B\n",
        "pchi2 = 1-chi2.cdf(chi2v,d)\n",
        "print('P(chi2) = {:.1f}%'.format(100.*pchi2))"
      ],
      "metadata": {
        "colab": {
          "base_uri": "https://localhost:8080/"
        },
        "id": "uUyFfJ4eOWzN",
        "outputId": "c04edf83-f41e-40df-c3ac-06424c0d68ee"
      },
      "execution_count": 36,
      "outputs": [
        {
          "output_type": "stream",
          "name": "stdout",
          "text": [
            "0.024873184341838803\n",
            "chi2 = 6.33\n",
            "P(chi2) = 17.6%\n"
          ]
        }
      ]
    },
    {
      "cell_type": "markdown",
      "source": [
        "## **VALORE DI g**"
      ],
      "metadata": {
        "id": "_g9E8r_Zt2qT"
      }
    },
    {
      "cell_type": "code",
      "source": [
        "#Modo 1\n",
        "def g1(T):\n",
        "  g = ((0.20)*((2*np.pi)**2)) / (T**2 )\n",
        "  return g\n",
        "\n",
        "def sigma_g1(g,T,st):\n",
        "  sigma_g = g*2*st/T\n",
        "  return sigma_g\n",
        "\n",
        "g_1 = g1(media(T20)/10)\n",
        "sigma_g1 = sigma_g1(g_1, media(T20)/10, deviazione_standard(T20)/10)\n",
        "print('g_1 = ({:.3f} ± {:.3f}) ms^-2'.format(g_1,sigma_g1))\n",
        "\n",
        "#Modo 2\n",
        "def g2(B):\n",
        "  g = ((2*np.pi)**2) / (B*B)\n",
        "  return g\n",
        "\n",
        "def sg_2(g, y, sy):\n",
        "  sg = 2*(g / y) * sy\n",
        "  return sg\n",
        "\n",
        "g_2 = g2(B)\n",
        "sigma_g2 = sg_2(g2(B) ,B, sb)\n",
        "print('g_2 = ({:.3f} ± {:.3f}) ms^-2'.format(g2(B),sigma_g2))"
      ],
      "metadata": {
        "colab": {
          "base_uri": "https://localhost:8080/"
        },
        "id": "CFCabD9MuE3p",
        "outputId": "055687f8-df9d-4046-9c75-3faf24d6d298"
      },
      "execution_count": 69,
      "outputs": [
        {
          "output_type": "stream",
          "name": "stdout",
          "text": [
            "g_1 = (8.938 ± 0.255) ms^-2\n",
            "g_2 = (10.034 ± 0.207) ms^-2\n"
          ]
        }
      ]
    },
    {
      "cell_type": "code",
      "source": [
        "#test di compatibilità\n",
        "\n",
        "t = (g_2-g_1) /(np.sqrt(sigma_g2**2+sigma_g1**2))\n",
        "print(t)\n",
        "\n",
        "g_atteso = 9.81\n",
        "t1 = (g_atteso-g_1)/sigma_g1\n",
        "print(\"t1 = {}\".format(t1))\n",
        "def gaussian_g1(x): return gaus(x, g_atteso, sigma_g1)\n",
        "\n",
        "test_compatibilità_1, _ = quad(gaussian_g1, g_atteso-t1*sigma_g1, g_atteso+t1*sigma_g1)\n",
        "print(\"Compatibilità1 = {}\".format(test_compatibilità_1))\n",
        "\n",
        "t2 = (g_2 -g_atteso)/sigma_g2\n",
        "print(\"t2 = {}\".format(t2))\n",
        "def gaussian_g2(x): return gaus(x, g_atteso, sigma_g2)\n",
        "\n",
        "test_compatibilità_2, _ = quad(gaussian_g2, g_atteso-t2*sigma_g2, g_atteso+t2*sigma_g2)\n",
        "print(\"Compatibilità2 = {}\".format(test_compatibilità_2))"
      ],
      "metadata": {
        "colab": {
          "base_uri": "https://localhost:8080/"
        },
        "id": "K0whxI-87M29",
        "outputId": "1357190f-e2ee-448b-f93c-d99ba95b0e59"
      },
      "execution_count": 74,
      "outputs": [
        {
          "output_type": "stream",
          "name": "stdout",
          "text": [
            "3.33594008394257\n",
            "t1 = 3.422784308848945\n",
            "Compatibilità1 = 0.9993801676018529\n",
            "t2 = 1.078650815875948\n",
            "Compatibilità2 = 0.7192565809415645\n"
          ]
        }
      ]
    },
    {
      "cell_type": "markdown",
      "source": [
        "## **CORREZIONI**"
      ],
      "metadata": {
        "id": "6Rn7QNzA3KKa"
      }
    },
    {
      "cell_type": "code",
      "source": [
        "#Approssimazione di piccole oscillazioni\n",
        "def Periodo(l):\n",
        "    P = [2*np.pi*np.sqrt(i / 9.81) for i in l]\n",
        "    return P\n",
        "\n",
        "periodo = Periodo(L)\n",
        "\n",
        "\n",
        "def Piccole_oscillazioni(y,z):\n",
        "  Po = y*(1+((z*z)/16))\n",
        "  numero_di_cifre = 3\n",
        "  Poo = np.round(Po, numero_di_cifre)\n",
        "  return Poo\n",
        "\n",
        "theta = [ (1/36), (1/ 18), (1/ 12), (1/ 9), (5/36), (1/6) ]\n",
        "# Crea un dizionario per mappare i valori decimali alle loro corrispondenti frazioni\n",
        "theta_dict = {(1/36): \"π/36\", (1/18): \"π/18\", (1/12): \"π/12\", (1/9): \"π/9\", (5/36): \"5π/36\", (1/6): \"π/6\"}\n",
        "\n",
        "table_dict = {}\n",
        "\n",
        "for i in range(len(L)):\n",
        "  for j in range(len(theta)):\n",
        "    # Calcola il periodo atteso\n",
        "    Po = Piccole_oscillazioni(periodo[i],theta[j]*np.pi)\n",
        "    # Arrotonda alla terza cifra decimale\n",
        "    Po = np.round(Po, 3)\n",
        "    # Aggiungi il risultato al dizionario della tabella\n",
        "    if L[i] not in table_dict:\n",
        "      table_dict[L[i]] = {}\n",
        "    table_dict[L[i]][theta_dict[theta[j]]] = Po\n",
        "\n",
        "# Crea un DataFrame da table_dict\n",
        "df = pd.DataFrame(table_dict)\n",
        "df.index = pd.MultiIndex.from_product([['Theta[Rad]'], df.index])\n",
        "print('                                L[m]')\n",
        "display(HTML(df.to_html(escape=False)))\n",
        "\n",
        "print(\"\\n\")\n",
        "\n",
        "#Approssimazione di massa puntiforme\n",
        "def Periodo_atteso(l, r):\n",
        "  T = 2*np.pi*np.sqrt((l*l + ((0.4*r*r) )) / (9.81 *l))\n",
        "  numero_di_cifre = 3\n",
        "  Tm = np.round(T, numero_di_cifre)\n",
        "  return Tm\n",
        "\n",
        "print(\"Questi sono i valori considerando il pendolo non come un punto uniforme:\")\n",
        "for i in L:\n",
        "  print(\"Con l = {} m, il periodo atteso è di {} s\".format(i, (Periodo_atteso(i, Diametro / 2))))\n",
        "\n"
      ],
      "metadata": {
        "colab": {
          "base_uri": "https://localhost:8080/",
          "height": 448
        },
        "id": "JOCh-XlF3Rkv",
        "outputId": "df5df5a7-8fff-4bdf-978b-293b8347c2a4"
      },
      "execution_count": 52,
      "outputs": [
        {
          "output_type": "stream",
          "name": "stdout",
          "text": [
            "{0.2: {'π/36': 0.898, 'π/18': 0.899, 'π/12': 0.901, 'π/9': 0.904, '5π/36': 0.908, 'π/6': 0.913}, 0.43: {'π/36': 1.316, 'π/18': 1.318, 'π/12': 1.321, 'π/9': 1.325, '5π/36': 1.331, 'π/6': 1.338}, 0.53: {'π/36': 1.461, 'π/18': 1.463, 'π/12': 1.467, 'π/9': 1.472, '5π/36': 1.478, 'π/6': 1.485}, 0.685: {'π/36': 1.661, 'π/18': 1.663, 'π/12': 1.667, 'π/9': 1.673, '5π/36': 1.68, 'π/6': 1.689}, 0.8625: {'π/36': 1.864, 'π/18': 1.867, 'π/12': 1.871, 'π/9': 1.877, '5π/36': 1.885, 'π/6': 1.895}, 1.09: {'π/36': 2.095, 'π/18': 2.098, 'π/12': 2.103, 'π/9': 2.11, '5π/36': 2.119, 'π/6': 2.13}}\n",
            "                                L[m]\n"
          ]
        },
        {
          "output_type": "display_data",
          "data": {
            "text/plain": [
              "<IPython.core.display.HTML object>"
            ],
            "text/html": [
              "<table border=\"1\" class=\"dataframe\">\n",
              "  <thead>\n",
              "    <tr style=\"text-align: right;\">\n",
              "      <th></th>\n",
              "      <th></th>\n",
              "      <th>0.2</th>\n",
              "      <th>0.43</th>\n",
              "      <th>0.53</th>\n",
              "      <th>0.685</th>\n",
              "      <th>0.8625</th>\n",
              "      <th>1.09</th>\n",
              "    </tr>\n",
              "  </thead>\n",
              "  <tbody>\n",
              "    <tr>\n",
              "      <th rowspan=\"6\" valign=\"top\">Theta[Rad]</th>\n",
              "      <th>π/36</th>\n",
              "      <td>0.898</td>\n",
              "      <td>1.316</td>\n",
              "      <td>1.461</td>\n",
              "      <td>1.661</td>\n",
              "      <td>1.864</td>\n",
              "      <td>2.095</td>\n",
              "    </tr>\n",
              "    <tr>\n",
              "      <th>π/18</th>\n",
              "      <td>0.899</td>\n",
              "      <td>1.318</td>\n",
              "      <td>1.463</td>\n",
              "      <td>1.663</td>\n",
              "      <td>1.867</td>\n",
              "      <td>2.098</td>\n",
              "    </tr>\n",
              "    <tr>\n",
              "      <th>π/12</th>\n",
              "      <td>0.901</td>\n",
              "      <td>1.321</td>\n",
              "      <td>1.467</td>\n",
              "      <td>1.667</td>\n",
              "      <td>1.871</td>\n",
              "      <td>2.103</td>\n",
              "    </tr>\n",
              "    <tr>\n",
              "      <th>π/9</th>\n",
              "      <td>0.904</td>\n",
              "      <td>1.325</td>\n",
              "      <td>1.472</td>\n",
              "      <td>1.673</td>\n",
              "      <td>1.877</td>\n",
              "      <td>2.110</td>\n",
              "    </tr>\n",
              "    <tr>\n",
              "      <th>5π/36</th>\n",
              "      <td>0.908</td>\n",
              "      <td>1.331</td>\n",
              "      <td>1.478</td>\n",
              "      <td>1.680</td>\n",
              "      <td>1.885</td>\n",
              "      <td>2.119</td>\n",
              "    </tr>\n",
              "    <tr>\n",
              "      <th>π/6</th>\n",
              "      <td>0.913</td>\n",
              "      <td>1.338</td>\n",
              "      <td>1.485</td>\n",
              "      <td>1.689</td>\n",
              "      <td>1.895</td>\n",
              "      <td>2.130</td>\n",
              "    </tr>\n",
              "  </tbody>\n",
              "</table>"
            ]
          },
          "metadata": {}
        },
        {
          "output_type": "stream",
          "name": "stdout",
          "text": [
            "\n",
            "\n",
            "Questi sono i valori considerando il pendolo non come un punto uniforme:\n",
            "Con l = 0.2 m, il periodo atteso è di 0.898 s\n",
            "Con l = 0.43 m, il periodo atteso è di 1.316 s\n",
            "Con l = 0.53 m, il periodo atteso è di 1.461 s\n",
            "Con l = 0.685 m, il periodo atteso è di 1.66 s\n",
            "Con l = 0.8625 m, il periodo atteso è di 1.863 s\n",
            "Con l = 1.09 m, il periodo atteso è di 2.094 s\n"
          ]
        }
      ]
    },
    {
      "cell_type": "code",
      "source": [],
      "metadata": {
        "id": "CInVVwrmDIxb"
      },
      "execution_count": null,
      "outputs": []
    }
  ]
}